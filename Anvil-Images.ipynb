{
 "cells": [
  {
   "cell_type": "code",
   "execution_count": 1,
   "id": "6fc0d8f2",
   "metadata": {},
   "outputs": [],
   "source": [
    "import numpy as np\n",
    "import os\n",
    "import cv2 as cv\n",
    "import matplotlib.pyplot as plt\n",
    "import imutils as mut\n",
    "import anvil.server \n",
    "import anvil.media"
   ]
  },
  {
   "cell_type": "code",
   "execution_count": 2,
   "id": "87de3fb4",
   "metadata": {},
   "outputs": [
    {
     "name": "stdout",
     "output_type": "stream",
     "text": [
      "Connecting to wss://anvil.works/uplink\n",
      "Anvil websocket open\n",
      "Connected to \"Default environment (dev)\" as SERVER\n"
     ]
    }
   ],
   "source": [
    "anvil.server.connect('QFC3PMUBE34WD25MQLQWJTIT-QGS7JLOU6MAQP4AP')"
   ]
  },
  {
   "cell_type": "code",
   "execution_count": 5,
   "id": "dfcab8a3",
   "metadata": {},
   "outputs": [],
   "source": [
    "maxL=1080\n",
    "bgcolor=(255,255,255)\n",
    "count=0 \n",
    "\n",
    "@anvil.server.callable\n",
    "def resize_single(file):\n",
    "    #read the image in rgb format : [...,::-1], omit to not mess with colors\n",
    "    with anvil.media.TempFile(file) as filename:\n",
    "        img=cv.imread(filename)\n",
    "\n",
    "    height,width = img.shape[:-1]\n",
    "\n",
    "    #resize image based on aspect ratio and determine offsets\n",
    "    if height >= width:\n",
    "        img_resized = mut.resize(img,height=maxL)\n",
    "\n",
    "        new_width=img_resized.shape[1]\n",
    "        height_offset = 0\n",
    "        width_offset = int((maxL-new_width)/2)\n",
    "\n",
    "    else:\n",
    "        img_resized = mut.resize(img,width=maxL)\n",
    "\n",
    "        new_height=img_resized.shape[0]\n",
    "        width_offset=0\n",
    "        height_offset=int((maxL-new_height)/2)\n",
    "\n",
    "    #create a blank background\n",
    "    blank_img = np.empty((maxL,maxL,3))\n",
    "    white_background = cv.rectangle(blank_img,(0,0),(maxL,maxL),\n",
    "                                   color=bgcolor,thickness=maxL)\n",
    "\n",
    "    #superimpose resized image onto square background\n",
    "    white_background[height_offset:height_offset+img_resized.shape[0],\n",
    "                    width_offset:width_offset+img_resized.shape[1]] = img_resized\n",
    "\n",
    "    #scale color values??\n",
    "    final_img = (white_background/255).astype(np.float64)*255\n",
    "\n",
    "    cv.imwrite('Temp.jpg',final_img)\n",
    "\n",
    "    try:\n",
    "        return anvil.media.from_file('Temp.jpg','image')\n",
    "    finally:\n",
    "        os.remove('Temp.jpg')\n",
    "\n",
    "\n",
    "     "
   ]
  },
  {
   "cell_type": "code",
   "execution_count": 4,
   "id": "05781e30",
   "metadata": {},
   "outputs": [
    {
     "ename": "NameError",
     "evalue": "name 'final_img' is not defined",
     "output_type": "error",
     "traceback": [
      "\u001b[1;31m---------------------------------------------------------------------------\u001b[0m",
      "\u001b[1;31mNameError\u001b[0m                                 Traceback (most recent call last)",
      "\u001b[1;32mC:\\Users\\J1221~1.BAU\\AppData\\Local\\Temp/ipykernel_16720/306282106.py\u001b[0m in \u001b[0;36m<module>\u001b[1;34m\u001b[0m\n\u001b[1;32m----> 1\u001b[1;33m \u001b[0mcv\u001b[0m\u001b[1;33m.\u001b[0m\u001b[0mimwrite\u001b[0m\u001b[1;33m(\u001b[0m\u001b[0mfinal_img\u001b[0m\u001b[1;33m)\u001b[0m\u001b[1;33m\u001b[0m\u001b[1;33m\u001b[0m\u001b[0m\n\u001b[0m",
      "\u001b[1;31mNameError\u001b[0m: name 'final_img' is not defined"
     ]
    }
   ],
   "source": [
    "cv.imwrite(final_img)"
   ]
  },
  {
   "cell_type": "code",
   "execution_count": null,
   "id": "9bece64d",
   "metadata": {},
   "outputs": [],
   "source": []
  },
  {
   "cell_type": "code",
   "execution_count": null,
   "id": "38613105",
   "metadata": {},
   "outputs": [],
   "source": [
    "\n",
    "path = str(input('What is the directory path to the images?\\n'))\n",
    "maxL = int(input('\\nWhat is the maximum pixel length?\\n'))\n",
    "bgcolor = (255,255,255)\n",
    "count=0\n",
    "\n",
    "for subdir, dirs, files in os.walk(path):\n",
    "    for file in np.sort(files):\n",
    "        if file.endswith('.jpg') or\\\n",
    "        file.endswith('.JPG') or\\\n",
    "        file.endswith('.jpeg') or\\\n",
    "        file.endswith('.JPEG') or\\\n",
    "        file.endswith('.png') or\\\n",
    "        file.endswith('.PNG'):\n",
    "            if 'resized' not in file:\n",
    "\n",
    "                print(f'\\nResizing {file}.... ',end=\"\"),\n",
    "                filename=os.path.join(subdir,file)\n",
    "                #read the image in rgb format : [...,::-1], omit to not mess with colors\n",
    "                img=cv.imread(f'{filename}')\n",
    "\n",
    "                height,width = img.shape[:-1]\n",
    "\n",
    "                #resize image based on aspect ratio and determine offsets\n",
    "                if height >= width:\n",
    "                    img_resized = mut.resize(img,height=maxL)\n",
    "\n",
    "                    new_width=img_resized.shape[1]\n",
    "                    height_offset = 0\n",
    "                    width_offset = int((maxL-new_width)/2)\n",
    "\n",
    "                else:\n",
    "                    img_resized = mut.resize(img,width=maxL)\n",
    "\n",
    "                    new_height=img_resized.shape[0]\n",
    "                    width_offset=0\n",
    "                    height_offset=int((maxL-new_height)/2)\n",
    "\n",
    "                #create a blank background\n",
    "                blank_img = np.empty((maxL,maxL,3))\n",
    "                white_background = cv.rectangle(blank_img,(0,0),(maxL,maxL),\n",
    "                                               color=bgcolor,thickness=maxL)\n",
    "\n",
    "                #superimpose resized image onto square background\n",
    "                white_background[height_offset:height_offset+img_resized.shape[0],\n",
    "                                width_offset:width_offset+img_resized.shape[1]] = img_resized\n",
    "\n",
    "                #scale color values??\n",
    "                final_img = (white_background/255).astype(np.float64)\n",
    "\n",
    "                #add 'resized' to the end of each filename\n",
    "                name = filename.split('/')[-1]\n",
    "                name_without_ext = name.split('.')[0]\n",
    "                new_name = f'{name_without_ext} resized.jpg'\n",
    "\n",
    "                #create a destination folder if it does not already exist\n",
    "                destination = f'{path}/resized'\n",
    "                if not os.path.exists(destination):\n",
    "                    os.makedirs(destination)\n",
    "\n",
    "\n",
    "                #save each image into the folder!\n",
    "                cv.imwrite(f'{destination}/{new_name}',final_img*255)\n",
    "                count +=1\n",
    "\n",
    "                print(' done.')\n",
    "\n",
    "print(f'\\n{count} photos resized and saved!\\n') "
   ]
  },
  {
   "cell_type": "code",
   "execution_count": null,
   "id": "5e39c897",
   "metadata": {},
   "outputs": [],
   "source": [
    "%matplotlib inline\n",
    "plt.figure()\n",
    "plt.imshow(final_img)\n",
    "plt.show()"
   ]
  },
  {
   "cell_type": "code",
   "execution_count": null,
   "id": "d32bd590",
   "metadata": {},
   "outputs": [],
   "source": [
    "type(final_img)"
   ]
  },
  {
   "cell_type": "code",
   "execution_count": null,
   "id": "a4bc880e",
   "metadata": {},
   "outputs": [],
   "source": [
    "original_filename = 'Temp.jpg'\n",
    "new_name = f'{original_filename.split('.')[-2]}-resized{original_filename.split('.')[-1]}'\n",
    "new_name"
   ]
  },
  {
   "cell_type": "code",
   "execution_count": null,
   "id": "504cbc03",
   "metadata": {},
   "outputs": [],
   "source": [
    "text=original_filename.split('.')[-2]\n",
    "ext=original_filename.split('.')[-1]\n",
    "new_filename = f'{text}-resized.{ext}'"
   ]
  },
  {
   "cell_type": "code",
   "execution_count": null,
   "id": "f13dd847",
   "metadata": {},
   "outputs": [],
   "source": []
  },
  {
   "cell_type": "code",
   "execution_count": null,
   "id": "6b6c2b1b",
   "metadata": {},
   "outputs": [],
   "source": [
    "#add 'resized' to the end of each filename\n",
    "name = filename.split('/')[-1]\n",
    "name_without_ext = name.split('.')[0]\n",
    "new_name = f'{name_without_ext} resized.jpg'\n",
    "\n",
    "#create a destination folder if it does not already exist\n",
    "destination = f'{path}/resized'\n",
    "if not os.path.exists(destination):\n",
    "    os.makedirs(destination)\n",
    "\n",
    "\n",
    "#save each image into the folder!\n",
    "cv.imwrite(f'{destination}/{new_name}',final_img*255)"
   ]
  },
  {
   "cell_type": "code",
   "execution_count": null,
   "id": "50f38e85",
   "metadata": {},
   "outputs": [],
   "source": []
  },
  {
   "cell_type": "code",
   "execution_count": null,
   "id": "78c86c54",
   "metadata": {},
   "outputs": [],
   "source": []
  },
  {
   "cell_type": "code",
   "execution_count": null,
   "id": "ecdf44db",
   "metadata": {},
   "outputs": [],
   "source": []
  },
  {
   "cell_type": "code",
   "execution_count": null,
   "id": "ace25d02",
   "metadata": {},
   "outputs": [],
   "source": []
  },
  {
   "cell_type": "code",
   "execution_count": null,
   "id": "41ee2ca1",
   "metadata": {},
   "outputs": [],
   "source": []
  },
  {
   "cell_type": "code",
   "execution_count": null,
   "id": "c0a35ca7",
   "metadata": {},
   "outputs": [],
   "source": []
  },
  {
   "cell_type": "code",
   "execution_count": null,
   "id": "ae6b1a8e",
   "metadata": {},
   "outputs": [],
   "source": []
  },
  {
   "cell_type": "code",
   "execution_count": null,
   "id": "f3832e81",
   "metadata": {},
   "outputs": [],
   "source": []
  },
  {
   "cell_type": "code",
   "execution_count": null,
   "id": "70732540",
   "metadata": {},
   "outputs": [],
   "source": []
  },
  {
   "cell_type": "code",
   "execution_count": null,
   "id": "6a67ea88",
   "metadata": {},
   "outputs": [],
   "source": []
  },
  {
   "cell_type": "code",
   "execution_count": null,
   "id": "95ba0e7d",
   "metadata": {},
   "outputs": [],
   "source": []
  },
  {
   "cell_type": "code",
   "execution_count": null,
   "id": "0e060c4a",
   "metadata": {},
   "outputs": [],
   "source": []
  },
  {
   "cell_type": "code",
   "execution_count": null,
   "id": "f76df8b9",
   "metadata": {},
   "outputs": [],
   "source": []
  },
  {
   "cell_type": "code",
   "execution_count": null,
   "id": "1adbec47",
   "metadata": {},
   "outputs": [],
   "source": []
  },
  {
   "cell_type": "code",
   "execution_count": null,
   "id": "828f03e3",
   "metadata": {},
   "outputs": [],
   "source": []
  },
  {
   "cell_type": "code",
   "execution_count": null,
   "id": "790503f2",
   "metadata": {},
   "outputs": [],
   "source": []
  },
  {
   "cell_type": "code",
   "execution_count": null,
   "id": "c94c406a",
   "metadata": {},
   "outputs": [],
   "source": []
  },
  {
   "cell_type": "code",
   "execution_count": null,
   "id": "d6a19748",
   "metadata": {},
   "outputs": [],
   "source": []
  },
  {
   "cell_type": "code",
   "execution_count": null,
   "id": "dc15a61d",
   "metadata": {},
   "outputs": [],
   "source": []
  },
  {
   "cell_type": "code",
   "execution_count": null,
   "id": "34cceb2a",
   "metadata": {},
   "outputs": [],
   "source": []
  }
 ],
 "metadata": {
  "kernelspec": {
   "display_name": "Python 3 (ipykernel)",
   "language": "python",
   "name": "python3"
  },
  "language_info": {
   "codemirror_mode": {
    "name": "ipython",
    "version": 3
   },
   "file_extension": ".py",
   "mimetype": "text/x-python",
   "name": "python",
   "nbconvert_exporter": "python",
   "pygments_lexer": "ipython3",
   "version": "3.9.7"
  }
 },
 "nbformat": 4,
 "nbformat_minor": 5
}
